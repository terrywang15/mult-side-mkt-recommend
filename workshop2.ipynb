{
 "cells": [
  {
   "cell_type": "markdown",
   "metadata": {},
   "source": [
    "## **1 Non-Linear Optimization, MLE for Normal Distribution**"
   ]
  },
  {
   "cell_type": "markdown",
   "metadata": {},
   "source": [
    "The goal here is to use the log-likelihood function to probe the solution space for the mean and var with the maximum log-likelihood."
   ]
  },
  {
   "cell_type": "code",
   "execution_count": 7,
   "metadata": {},
   "outputs": [],
   "source": [
    "Negative.LL.Normal<-function(mu.Sig.parameters, Sample.Vector) {\n",
    "    n <- length(Sample.Vector)\n",
    "    mn <- mu.Sig.parameters[1]\n",
    "    var <- mu.Sig.parameters[2]\n",
    "    sum_sqrs <- sum((Sample.Vector - mn)^2)\n",
    "    \n",
    "    (n/2)*log(2*pi*var)+(1/(2*var))*sum_sqrs\n",
    "}"
   ]
  },
  {
   "cell_type": "code",
   "execution_count": 2,
   "metadata": {},
   "outputs": [
    {
     "data": {
      "text/html": [
       "<ol class=list-inline>\n",
       "\t<li>12.6567271932837</li>\n",
       "\t<li>10.8362391085969</li>\n",
       "\t<li>4.10873068185635</li>\n",
       "\t<li>10.9831141167738</li>\n",
       "\t<li>10.7719943813731</li>\n",
       "\t<li>-0.975609301235188</li>\n",
       "</ol>\n"
      ],
      "text/latex": [
       "\\begin{enumerate*}\n",
       "\\item 12.6567271932837\n",
       "\\item 10.8362391085969\n",
       "\\item 4.10873068185635\n",
       "\\item 10.9831141167738\n",
       "\\item 10.7719943813731\n",
       "\\item -0.975609301235188\n",
       "\\end{enumerate*}\n"
      ],
      "text/markdown": [
       "1. 12.6567271932837\n",
       "2. 10.8362391085969\n",
       "3. 4.10873068185635\n",
       "4. 10.9831141167738\n",
       "5. 10.7719943813731\n",
       "6. -0.975609301235188\n",
       "\n",
       "\n"
      ],
      "text/plain": [
       "[1] 12.6567272 10.8362391  4.1087307 10.9831141 10.7719944 -0.9756093"
      ]
     },
     "metadata": {},
     "output_type": "display_data"
    }
   ],
   "source": [
    "Norm.Sample.Vector<-read.csv(\"sample_for_optimization.csv\",header=TRUE,sep=\",\")[,1]\n",
    "head(Norm.Sample.Vector)"
   ]
  },
  {
   "cell_type": "code",
   "execution_count": 3,
   "metadata": {},
   "outputs": [
    {
     "data": {
      "text/html": [
       "24.7550864909017"
      ],
      "text/latex": [
       "24.7550864909017"
      ],
      "text/markdown": [
       "24.7550864909017"
      ],
      "text/plain": [
       "[1] 24.75509"
      ]
     },
     "metadata": {},
     "output_type": "display_data"
    }
   ],
   "source": [
    "var(Norm.Sample.Vector)"
   ]
  },
  {
   "cell_type": "code",
   "execution_count": 8,
   "metadata": {},
   "outputs": [
    {
     "name": "stdout",
     "output_type": "stream",
     "text": [
      "iter   10 value 3024.314081\n",
      "final  value 3022.953774 \n",
      "converged\n"
     ]
    }
   ],
   "source": [
    "Optimized.Negative.Log.Likelihood.optim<-optim(c(7,4),\n",
    "                                               Negative.LL.Normal,\n",
    "                                               Sample.Vector=Norm.Sample.Vector,\n",
    "                                               method=\"L-BFGS-B\",\n",
    "                                               hessian=TRUE,\n",
    "                                               lower=c(-Inf,0),\n",
    "                                               control=list(trace=1))"
   ]
  },
  {
   "cell_type": "code",
   "execution_count": 9,
   "metadata": {},
   "outputs": [
    {
     "data": {
      "text/html": [
       "<ol class=list-inline>\n",
       "\t<li>10.2255225665797</li>\n",
       "\t<li>24.7303238120962</li>\n",
       "</ol>\n"
      ],
      "text/latex": [
       "\\begin{enumerate*}\n",
       "\\item 10.2255225665797\n",
       "\\item 24.7303238120962\n",
       "\\end{enumerate*}\n"
      ],
      "text/markdown": [
       "1. 10.2255225665797\n",
       "2. 24.7303238120962\n",
       "\n",
       "\n"
      ],
      "text/plain": [
       "[1] 10.22552 24.73032"
      ]
     },
     "metadata": {},
     "output_type": "display_data"
    }
   ],
   "source": [
    "Optimized.Negative.Log.Likelihood.optim$par"
   ]
  },
  {
   "cell_type": "code",
   "execution_count": 10,
   "metadata": {},
   "outputs": [
    {
     "data": {
      "text/html": [
       "3022.95377437957"
      ],
      "text/latex": [
       "3022.95377437957"
      ],
      "text/markdown": [
       "3022.95377437957"
      ],
      "text/plain": [
       "[1] 3022.954"
      ]
     },
     "metadata": {},
     "output_type": "display_data"
    }
   ],
   "source": [
    "Optimized.Negative.Log.Likelihood.optim$value"
   ]
  },
  {
   "cell_type": "code",
   "execution_count": 11,
   "metadata": {},
   "outputs": [
    {
     "data": {
      "text/html": [
       "<dl class=dl-horizontal>\n",
       "\t<dt>function</dt>\n",
       "\t\t<dd>17</dd>\n",
       "\t<dt>gradient</dt>\n",
       "\t\t<dd>17</dd>\n",
       "</dl>\n"
      ],
      "text/latex": [
       "\\begin{description*}\n",
       "\\item[function] 17\n",
       "\\item[gradient] 17\n",
       "\\end{description*}\n"
      ],
      "text/markdown": [
       "function\n",
       ":   17gradient\n",
       ":   17\n",
       "\n"
      ],
      "text/plain": [
       "function gradient \n",
       "      17       17 "
      ]
     },
     "metadata": {},
     "output_type": "display_data"
    }
   ],
   "source": [
    "Optimized.Negative.Log.Likelihood.optim$counts"
   ]
  },
  {
   "cell_type": "code",
   "execution_count": 12,
   "metadata": {},
   "outputs": [
    {
     "data": {
      "text/html": [
       "0"
      ],
      "text/latex": [
       "0"
      ],
      "text/markdown": [
       "0"
      ],
      "text/plain": [
       "[1] 0"
      ]
     },
     "metadata": {},
     "output_type": "display_data"
    }
   ],
   "source": [
    "Optimized.Negative.Log.Likelihood.optim$convergence"
   ]
  },
  {
   "cell_type": "markdown",
   "metadata": {},
   "source": [
    "### **1.2 Analysis of the obtained estimates**"
   ]
  },
  {
   "cell_type": "code",
   "execution_count": 13,
   "metadata": {},
   "outputs": [
    {
     "data": {
      "text/html": [
       "<table>\n",
       "<caption>A matrix: 2 × 2 of type dbl</caption>\n",
       "<tbody>\n",
       "\t<tr><th scope=row>Mean.Var</th><td>10.22552</td><td>24.75509</td></tr>\n",
       "\t<tr><th scope=row>Optim.Output</th><td>10.22552</td><td>24.73032</td></tr>\n",
       "</tbody>\n",
       "</table>\n"
      ],
      "text/latex": [
       "A matrix: 2 × 2 of type dbl\n",
       "\\begin{tabular}{r|ll}\n",
       "\tMean.Var & 10.22552 & 24.75509\\\\\n",
       "\tOptim.Output & 10.22552 & 24.73032\\\\\n",
       "\\end{tabular}\n"
      ],
      "text/markdown": [
       "\n",
       "A matrix: 2 × 2 of type dbl\n",
       "\n",
       "| Mean.Var | 10.22552 | 24.75509 |\n",
       "| Optim.Output | 10.22552 | 24.73032 |\n",
       "\n"
      ],
      "text/plain": [
       "             [,1]     [,2]    \n",
       "Mean.Var     10.22552 24.75509\n",
       "Optim.Output 10.22552 24.73032"
      ]
     },
     "metadata": {},
     "output_type": "display_data"
    }
   ],
   "source": [
    "rbind(Mean.Var=c(mean(Norm.Sample.Vector),var(Norm.Sample.Vector)),\n",
    "      Optim.Output=Optimized.Negative.Log.Likelihood.optim$par)"
   ]
  },
  {
   "cell_type": "code",
   "execution_count": 35,
   "metadata": {},
   "outputs": [],
   "source": [
    "Transform.Optim.Output <- function(params, len_vec) {\n",
    "    n_params <- length(params)\n",
    "    output <- c(params[1])\n",
    "    output <- c(output, params[2]*len_vec/(len_vec - 1))\n",
    "}"
   ]
  },
  {
   "cell_type": "code",
   "execution_count": 36,
   "metadata": {},
   "outputs": [],
   "source": [
    "Optim.Output.Transformed <- Transform.Optim.Output(Optimized.Negative.Log.Likelihood.optim$par, length(Norm.Sample.Vector))"
   ]
  },
  {
   "cell_type": "code",
   "execution_count": 37,
   "metadata": {},
   "outputs": [
    {
     "data": {
      "text/html": [
       "<table>\n",
       "<caption>A matrix: 2 × 2 of type dbl</caption>\n",
       "<tbody>\n",
       "\t<tr><th scope=row>Mean.Var</th><td>10.22552</td><td>24.75509</td></tr>\n",
       "\t<tr><th scope=row>Optim.Output.Transformed</th><td>10.22552</td><td>24.75508</td></tr>\n",
       "</tbody>\n",
       "</table>\n"
      ],
      "text/latex": [
       "A matrix: 2 × 2 of type dbl\n",
       "\\begin{tabular}{r|ll}\n",
       "\tMean.Var & 10.22552 & 24.75509\\\\\n",
       "\tOptim.Output.Transformed & 10.22552 & 24.75508\\\\\n",
       "\\end{tabular}\n"
      ],
      "text/markdown": [
       "\n",
       "A matrix: 2 × 2 of type dbl\n",
       "\n",
       "| Mean.Var | 10.22552 | 24.75509 |\n",
       "| Optim.Output.Transformed | 10.22552 | 24.75508 |\n",
       "\n"
      ],
      "text/plain": [
       "                         [,1]     [,2]    \n",
       "Mean.Var                 10.22552 24.75509\n",
       "Optim.Output.Transformed 10.22552 24.75508"
      ]
     },
     "metadata": {},
     "output_type": "display_data"
    }
   ],
   "source": [
    "rbind(Mean.Var=c(mean(Norm.Sample.Vector),var(Norm.Sample.Vector)),\n",
    "      Optim.Output.Transformed=Optim.Output.Transformed)"
   ]
  },
  {
   "cell_type": "markdown",
   "metadata": {},
   "source": [
    "Basically, using the MLE methods gives biased variance estimate for normal distributions. The bias can be analytically derived, see [http://www.ee.columbia.edu/~dliang/files/mle_biased.pdf]. You can overcome this bias by adjusting variance by $\\frac{1}{1-N}$."
   ]
  },
  {
   "cell_type": "markdown",
   "metadata": {},
   "source": [
    "## **Fisher's Score, Fisher's Information**\n",
    "\n",
    "### **2.1 Fisher's Score**"
   ]
  },
  {
   "cell_type": "markdown",
   "metadata": {},
   "source": [
    "Basically, Fisher's Information Matrix is second derivatives of log-likelihood function with regards to each of the parameters to estimate. Used to estimate the parameters via the Newton-Raphson algorithm. Very similar to other optimization problems. Though faster algorithms exist."
   ]
  },
  {
   "cell_type": "code",
   "execution_count": 38,
   "metadata": {},
   "outputs": [
    {
     "data": {
      "text/html": [
       "24.7303314044108"
      ],
      "text/latex": [
       "24.7303314044108"
      ],
      "text/markdown": [
       "24.7303314044108"
      ],
      "text/plain": [
       "[1] 24.73033"
      ]
     },
     "metadata": {},
     "output_type": "display_data"
    }
   ],
   "source": [
    "(Biased.Var<- var(Norm.Sample.Vector)*(length(Norm.Sample.Vector)-1)/length(Norm.Sample.Vector))"
   ]
  },
  {
   "cell_type": "markdown",
   "metadata": {},
   "source": [
    "Fisher's score is basically how much more information about the true parameters can be gained at given parameters. Therefore, when the parameters are the same as the true parameters, the Fisher's score at those parameters are 0."
   ]
  },
  {
   "cell_type": "code",
   "execution_count": 44,
   "metadata": {},
   "outputs": [
    {
     "data": {
      "text/html": [
       "-2.58584671481609e-14"
      ],
      "text/latex": [
       "-2.58584671481609e-14"
      ],
      "text/markdown": [
       "-2.58584671481609e-14"
      ],
      "text/plain": [
       "[1] -2.585847e-14"
      ]
     },
     "metadata": {},
     "output_type": "display_data"
    }
   ],
   "source": [
    "# Derivative of mean for the loglik function == 0\n",
    "(1/Biased.Var)*sum((Norm.Sample.Vector-mean(Norm.Sample.Vector)))"
   ]
  },
  {
   "cell_type": "code",
   "execution_count": 45,
   "metadata": {},
   "outputs": [
    {
     "data": {
      "text/html": [
       "3.5527136788005e-15"
      ],
      "text/latex": [
       "3.5527136788005e-15"
      ],
      "text/markdown": [
       "3.5527136788005e-15"
      ],
      "text/plain": [
       "[1] 3.552714e-15"
      ]
     },
     "metadata": {},
     "output_type": "display_data"
    }
   ],
   "source": [
    "# Derivative of sd for the loglik function == 0\n",
    "-(length(Norm.Sample.Vector)/(2*Biased.Var))+1/(2*Biased.Var^2)*sum((Norm.Sample.Vector-mean(Norm.Sample.Vector))^2)"
   ]
  },
  {
   "cell_type": "markdown",
   "metadata": {},
   "source": [
    "### **2.2 Observed Fisher's Information**"
   ]
  },
  {
   "cell_type": "code",
   "execution_count": 46,
   "metadata": {},
   "outputs": [
    {
     "data": {
      "text/html": [
       "<table>\n",
       "<caption>A matrix: 2 × 2 of type dbl</caption>\n",
       "<tbody>\n",
       "\t<tr><td> 4.043619e+01</td><td>-1.136868e-07</td></tr>\n",
       "\t<tr><td>-1.136868e-07</td><td> 8.175431e-01</td></tr>\n",
       "</tbody>\n",
       "</table>\n"
      ],
      "text/latex": [
       "A matrix: 2 × 2 of type dbl\n",
       "\\begin{tabular}{ll}\n",
       "\t  4.043619e+01 & -1.136868e-07\\\\\n",
       "\t -1.136868e-07 &  8.175431e-01\\\\\n",
       "\\end{tabular}\n"
      ],
      "text/markdown": [
       "\n",
       "A matrix: 2 × 2 of type dbl\n",
       "\n",
       "|  4.043619e+01 | -1.136868e-07 |\n",
       "| -1.136868e-07 |  8.175431e-01 |\n",
       "\n"
      ],
      "text/plain": [
       "     [,1]          [,2]         \n",
       "[1,]  4.043619e+01 -1.136868e-07\n",
       "[2,] -1.136868e-07  8.175431e-01"
      ]
     },
     "metadata": {},
     "output_type": "display_data"
    }
   ],
   "source": [
    "Optimized.Negative.Log.Likelihood.optim$hessian"
   ]
  },
  {
   "cell_type": "code",
   "execution_count": 48,
   "metadata": {},
   "outputs": [
    {
     "data": {
      "text/html": [
       "40.4361746572325"
      ],
      "text/latex": [
       "40.4361746572325"
      ],
      "text/markdown": [
       "40.4361746572325"
      ],
      "text/plain": [
       "[1] 40.43617"
      ]
     },
     "metadata": {},
     "output_type": "display_data"
    }
   ],
   "source": [
    "# Estimating Hessian 1.1:\n",
    "\n",
    "# This is the second derivative of log likelihood with respect to mu and mu\n",
    "\n",
    "length(Norm.Sample.Vector)/Biased.Var"
   ]
  },
  {
   "cell_type": "code",
   "execution_count": 51,
   "metadata": {},
   "outputs": [
    {
     "data": {
      "text/html": [
       "-1.04561749397134e-15"
      ],
      "text/latex": [
       "-1.04561749397134e-15"
      ],
      "text/markdown": [
       "-1.04561749397134e-15"
      ],
      "text/plain": [
       "[1] -1.045617e-15"
      ]
     },
     "metadata": {},
     "output_type": "display_data"
    }
   ],
   "source": [
    "# Hessian 1.2 and 2.1 are the same. In this case does not matter whether use derivative of mu or var first.\n",
    "# Not necessarily the same as the one given by the optim() function due to methodology differences\n",
    "\n",
    "(1/(Biased.Var^2))*sum(Norm.Sample.Vector-mean(Norm.Sample.Vector))"
   ]
  },
  {
   "cell_type": "code",
   "execution_count": 52,
   "metadata": {},
   "outputs": [
    {
     "data": {
      "text/html": [
       "0.817542110455107"
      ],
      "text/latex": [
       "0.817542110455107"
      ],
      "text/markdown": [
       "0.817542110455107"
      ],
      "text/plain": [
       "[1] 0.8175421"
      ]
     },
     "metadata": {},
     "output_type": "display_data"
    }
   ],
   "source": [
    "# Hessian 2.2: second derivative of loglik w.r. to var twice\n",
    "\n",
    "-(length(Norm.Sample.Vector)/(2*Biased.Var^2)) + (1/Biased.Var^3)*sum((Norm.Sample.Vector-mean(Norm.Sample.Vector))^2)"
   ]
  },
  {
   "cell_type": "markdown",
   "metadata": {},
   "source": [
    "### **2.3 Expected Fisher's Information**"
   ]
  },
  {
   "cell_type": "markdown",
   "metadata": {},
   "source": [
    "Basically, using definition of mu and var to get at the Hessian matrix easily. Not sure what the point is here since the goal of the Hessian is to estimate mean and var but... maybe just to prove a point?"
   ]
  },
  {
   "cell_type": "markdown",
   "metadata": {},
   "source": [
    "## **4 Example: Simple linear regression**"
   ]
  },
  {
   "cell_type": "code",
   "execution_count": 53,
   "metadata": {},
   "outputs": [
    {
     "data": {
      "image/png": "[encoded data removed]",
      "text/plain": [
       "plot without title"
      ]
     },
     "metadata": {
      "image/png": {
       "height": 420,
       "width": 420
      },
      "text/plain": {
       "height": 420,
       "width": 420
      }
     },
     "output_type": "display_data"
    }
   ],
   "source": [
    "nSample<-500\n",
    "sigmaEps<-1.5\n",
    "set.seed(927436)\n",
    "Eps<-rnorm(nSample,0,sigmaEps)\n",
    "beta1<-1\n",
    "beta0<-2.5\n",
    "lambda<-.5\n",
    "X<-rexp(nSample,lambda)\n",
    "Y<-beta0+beta1*X+Eps\n",
    "plot(X,Y)"
   ]
  },
  {
   "cell_type": "code",
   "execution_count": 54,
   "metadata": {},
   "outputs": [
    {
     "data": {
      "text/html": [
       "<table>\n",
       "<caption>A data.frame: 6 × 2</caption>\n",
       "<thead>\n",
       "\t<tr><th></th><th scope=col>X</th><th scope=col>Y</th></tr>\n",
       "\t<tr><th></th><th scope=col>&lt;dbl&gt;</th><th scope=col>&lt;dbl&gt;</th></tr>\n",
       "</thead>\n",
       "<tbody>\n",
       "\t<tr><th scope=row>1</th><td>1.980506</td><td>4.0826325</td></tr>\n",
       "\t<tr><th scope=row>2</th><td>2.542126</td><td>5.2707668</td></tr>\n",
       "\t<tr><th scope=row>3</th><td>1.040133</td><td>6.9997564</td></tr>\n",
       "\t<tr><th scope=row>4</th><td>1.694994</td><td>0.7666407</td></tr>\n",
       "\t<tr><th scope=row>5</th><td>0.102001</td><td>1.9767673</td></tr>\n",
       "\t<tr><th scope=row>6</th><td>2.751328</td><td>6.4738524</td></tr>\n",
       "</tbody>\n",
       "</table>\n"
      ],
      "text/latex": [
       "A data.frame: 6 × 2\n",
       "\\begin{tabular}{r|ll}\n",
       "  & X & Y\\\\\n",
       "  & <dbl> & <dbl>\\\\\n",
       "\\hline\n",
       "\t1 & 1.980506 & 4.0826325\\\\\n",
       "\t2 & 2.542126 & 5.2707668\\\\\n",
       "\t3 & 1.040133 & 6.9997564\\\\\n",
       "\t4 & 1.694994 & 0.7666407\\\\\n",
       "\t5 & 0.102001 & 1.9767673\\\\\n",
       "\t6 & 2.751328 & 6.4738524\\\\\n",
       "\\end{tabular}\n"
      ],
      "text/markdown": [
       "\n",
       "A data.frame: 6 × 2\n",
       "\n",
       "| <!--/--> | X &lt;dbl&gt; | Y &lt;dbl&gt; |\n",
       "|---|---|---|\n",
       "| 1 | 1.980506 | 4.0826325 |\n",
       "| 2 | 2.542126 | 5.2707668 |\n",
       "| 3 | 1.040133 | 6.9997564 |\n",
       "| 4 | 1.694994 | 0.7666407 |\n",
       "| 5 | 0.102001 | 1.9767673 |\n",
       "| 6 | 2.751328 | 6.4738524 |\n",
       "\n"
      ],
      "text/plain": [
       "  X        Y        \n",
       "1 1.980506 4.0826325\n",
       "2 2.542126 5.2707668\n",
       "3 1.040133 6.9997564\n",
       "4 1.694994 0.7666407\n",
       "5 0.102001 1.9767673\n",
       "6 2.751328 6.4738524"
      ]
     },
     "metadata": {},
     "output_type": "display_data"
    }
   ],
   "source": [
    "dtf<-data.frame(X=X,Y=Y)\n",
    "head(dtf)"
   ]
  },
  {
   "cell_type": "code",
   "execution_count": 56,
   "metadata": {},
   "outputs": [
    {
     "data": {
      "text/html": [
       "500"
      ],
      "text/latex": [
       "500"
      ],
      "text/markdown": [
       "500"
      ],
      "text/plain": [
       "[1] 500"
      ]
     },
     "metadata": {},
     "output_type": "display_data"
    }
   ],
   "source": [
    "dim(dtf)[1]"
   ]
  },
  {
   "cell_type": "code",
   "execution_count": 59,
   "metadata": {},
   "outputs": [],
   "source": [
    "linModLL <- function(params, regSample) {\n",
    "    b0 <- params[1]\n",
    "    b1 <- params[2]\n",
    "    sigma <- params[3]\n",
    "    \n",
    "    LL <- 0\n",
    "    for (row_idx in 1:dim(regSample)[1]) {\n",
    "        LL <- LL - dnorm(regSample[row_idx,2], b0+b1*regSample[row_idx,1], sigma, log = T)\n",
    "    }\n",
    "    LL\n",
    "}"
   ]
  },
  {
   "cell_type": "code",
   "execution_count": 60,
   "metadata": {},
   "outputs": [
    {
     "data": {
      "text/html": [
       "2523.76894579053"
      ],
      "text/latex": [
       "2523.76894579053"
      ],
      "text/markdown": [
       "2523.76894579053"
      ],
      "text/plain": [
       "[1] 2523.769"
      ]
     },
     "metadata": {},
     "output_type": "display_data"
    }
   ],
   "source": [
    "linModLL(c(Beta0=beta0+1,Beta1=beta1+1,Sigma=sigmaEps),dtf)"
   ]
  },
  {
   "cell_type": "code",
   "execution_count": 61,
   "metadata": {},
   "outputs": [
    {
     "data": {
      "text/html": [
       "931.395064575528"
      ],
      "text/latex": [
       "931.395064575528"
      ],
      "text/markdown": [
       "931.395064575528"
      ],
      "text/plain": [
       "[1] 931.3951"
      ]
     },
     "metadata": {},
     "output_type": "display_data"
    }
   ],
   "source": [
    "linModLL(c(Beta0=beta0,Beta1=beta1,Sigma=sigmaEps),dtf)"
   ]
  },
  {
   "cell_type": "code",
   "execution_count": 64,
   "metadata": {},
   "outputs": [
    {
     "name": "stdout",
     "output_type": "stream",
     "text": [
      "iter   10 value 931.485591\n",
      "final  value 930.111159 \n",
      "converged\n"
     ]
    }
   ],
   "source": [
    "manualMLE<-optim(c(0,0,1), # starting points vector\n",
    "linModLL, # function to optimize\n",
    "regSample=dtf, # other args in function, need to be named like in original function\n",
    "method=\"L-BFGS-B\",\n",
    "hessian=TRUE,\n",
    "lower=c(-Inf, -Inf, 0), # bounds, lower bound here, must have provide for all parameters (3 in this case). last param is sigma so lower bound is 0\n",
    "control=list(trace=1))"
   ]
  },
  {
   "cell_type": "code",
   "execution_count": 65,
   "metadata": {},
   "outputs": [
    {
     "data": {
      "text/html": [
       "<ol class=list-inline>\n",
       "\t<li>2.49296195466754</li>\n",
       "\t<li>0.976193859717038</li>\n",
       "\t<li>1.55470317407871</li>\n",
       "</ol>\n"
      ],
      "text/latex": [
       "\\begin{enumerate*}\n",
       "\\item 2.49296195466754\n",
       "\\item 0.976193859717038\n",
       "\\item 1.55470317407871\n",
       "\\end{enumerate*}\n"
      ],
      "text/markdown": [
       "1. 2.49296195466754\n",
       "2. 0.976193859717038\n",
       "3. 1.55470317407871\n",
       "\n",
       "\n"
      ],
      "text/plain": [
       "[1] 2.4929620 0.9761939 1.5547032"
      ]
     },
     "metadata": {},
     "output_type": "display_data"
    }
   ],
   "source": [
    "manualMLE$par"
   ]
  },
  {
   "cell_type": "code",
   "execution_count": 66,
   "metadata": {},
   "outputs": [
    {
     "data": {
      "text/html": [
       "930.111158649521"
      ],
      "text/latex": [
       "930.111158649521"
      ],
      "text/markdown": [
       "930.111158649521"
      ],
      "text/plain": [
       "[1] 930.1112"
      ]
     },
     "metadata": {},
     "output_type": "display_data"
    }
   ],
   "source": [
    "manualMLE$value"
   ]
  },
  {
   "cell_type": "code",
   "execution_count": 67,
   "metadata": {},
   "outputs": [
    {
     "data": {
      "text/html": [
       "<dl class=dl-horizontal>\n",
       "\t<dt>function</dt>\n",
       "\t\t<dd>18</dd>\n",
       "\t<dt>gradient</dt>\n",
       "\t\t<dd>18</dd>\n",
       "</dl>\n"
      ],
      "text/latex": [
       "\\begin{description*}\n",
       "\\item[function] 18\n",
       "\\item[gradient] 18\n",
       "\\end{description*}\n"
      ],
      "text/markdown": [
       "function\n",
       ":   18gradient\n",
       ":   18\n",
       "\n"
      ],
      "text/plain": [
       "function gradient \n",
       "      18       18 "
      ]
     },
     "metadata": {},
     "output_type": "display_data"
    }
   ],
   "source": [
    "manualMLE$counts"
   ]
  },
  {
   "cell_type": "code",
   "execution_count": 68,
   "metadata": {},
   "outputs": [
    {
     "data": {
      "text/html": [
       "<table>\n",
       "<caption>A matrix: 3 × 3 of type dbl</caption>\n",
       "<tbody>\n",
       "\t<tr><td>2.068593e+02</td><td>4.271236e+02</td><td>1.668923e-03</td></tr>\n",
       "\t<tr><td>4.271236e+02</td><td>1.789044e+03</td><td>7.890620e-03</td></tr>\n",
       "\t<tr><td>1.668923e-03</td><td>7.890620e-03</td><td>4.137191e+02</td></tr>\n",
       "</tbody>\n",
       "</table>\n"
      ],
      "text/latex": [
       "A matrix: 3 × 3 of type dbl\n",
       "\\begin{tabular}{lll}\n",
       "\t 2.068593e+02 & 4.271236e+02 & 1.668923e-03\\\\\n",
       "\t 4.271236e+02 & 1.789044e+03 & 7.890620e-03\\\\\n",
       "\t 1.668923e-03 & 7.890620e-03 & 4.137191e+02\\\\\n",
       "\\end{tabular}\n"
      ],
      "text/markdown": [
       "\n",
       "A matrix: 3 × 3 of type dbl\n",
       "\n",
       "| 2.068593e+02 | 4.271236e+02 | 1.668923e-03 |\n",
       "| 4.271236e+02 | 1.789044e+03 | 7.890620e-03 |\n",
       "| 1.668923e-03 | 7.890620e-03 | 4.137191e+02 |\n",
       "\n"
      ],
      "text/plain": [
       "     [,1]         [,2]         [,3]        \n",
       "[1,] 2.068593e+02 4.271236e+02 1.668923e-03\n",
       "[2,] 4.271236e+02 1.789044e+03 7.890620e-03\n",
       "[3,] 1.668923e-03 7.890620e-03 4.137191e+02"
      ]
     },
     "metadata": {},
     "output_type": "display_data"
    }
   ],
   "source": [
    "manualMLE$hessian"
   ]
  },
  {
   "cell_type": "code",
   "execution_count": 69,
   "metadata": {},
   "outputs": [
    {
     "data": {
      "text/html": [
       "<table>\n",
       "<caption>A matrix: 3 × 3 of type dbl</caption>\n",
       "<thead>\n",
       "\t<tr><th></th><th scope=col>Intercept</th><th scope=col>Slope</th><th scope=col>Sigma</th></tr>\n",
       "</thead>\n",
       "<tbody>\n",
       "\t<tr><th scope=row>LM</th><td>2.492960</td><td>0.9761977</td><td>1.557821</td></tr>\n",
       "\t<tr><th scope=row>Manual</th><td>2.492962</td><td>0.9761939</td><td>1.554703</td></tr>\n",
       "\t<tr><th scope=row>Actual</th><td>2.500000</td><td>1.0000000</td><td>1.500000</td></tr>\n",
       "</tbody>\n",
       "</table>\n"
      ],
      "text/latex": [
       "A matrix: 3 × 3 of type dbl\n",
       "\\begin{tabular}{r|lll}\n",
       "  & Intercept & Slope & Sigma\\\\\n",
       "\\hline\n",
       "\tLM & 2.492960 & 0.9761977 & 1.557821\\\\\n",
       "\tManual & 2.492962 & 0.9761939 & 1.554703\\\\\n",
       "\tActual & 2.500000 & 1.0000000 & 1.500000\\\\\n",
       "\\end{tabular}\n"
      ],
      "text/markdown": [
       "\n",
       "A matrix: 3 × 3 of type dbl\n",
       "\n",
       "| <!--/--> | Intercept | Slope | Sigma |\n",
       "|---|---|---|---|\n",
       "| LM | 2.492960 | 0.9761977 | 1.557821 |\n",
       "| Manual | 2.492962 | 0.9761939 | 1.554703 |\n",
       "| Actual | 2.500000 | 1.0000000 | 1.500000 |\n",
       "\n"
      ],
      "text/plain": [
       "       Intercept Slope     Sigma   \n",
       "LM     2.492960  0.9761977 1.557821\n",
       "Manual 2.492962  0.9761939 1.554703\n",
       "Actual 2.500000  1.0000000 1.500000"
      ]
     },
     "metadata": {},
     "output_type": "display_data"
    }
   ],
   "source": [
    "linM<-lm(Y~X,dtf)\n",
    "res<-rbind(LM=c(linM$coefficients,summary(linM)$sigma),\n",
    "           Manual=manualMLE$par,\n",
    "           Actual=c(beta0,beta1,sigmaEps) )\n",
    "colnames(res)<-c(\"Intercept\",\"Slope\",\"Sigma\")\n",
    "res"
   ]
  },
  {
   "cell_type": "code",
   "execution_count": null,
   "metadata": {},
   "outputs": [],
   "source": []
  }
 ],
 "metadata": {
  "kernelspec": {
   "display_name": "R",
   "language": "R",
   "name": "ir"
  },
  "language_info": {
   "codemirror_mode": "r",
   "file_extension": ".r",
   "mimetype": "text/x-r-source",
   "name": "R",
   "pygments_lexer": "r",
   "version": "3.6.3"
  }
 },
 "nbformat": 4,
 "nbformat_minor": 4
}
